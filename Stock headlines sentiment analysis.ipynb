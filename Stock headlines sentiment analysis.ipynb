{
 "cells": [
  {
   "cell_type": "code",
   "execution_count": 1,
   "id": "d79d42a5",
   "metadata": {},
   "outputs": [],
   "source": [
    "# Import libraries\n",
    "import pandas as pd\n",
    "from bs4 import BeautifulSoup\n",
    "import matplotlib.pyplot as plt\n",
    "from urllib.request import urlopen\n",
    "from urllib.request import Request\n",
    "from nltk.sentiment.vader import SentimentIntensityAnalyzer\n",
    "\n",
    "# Parameters \n",
    "n = 3 #the # of article headlines displayed per ticker\n",
    "tickers = ['AAPL', 'TSLA', 'AMZN']"
   ]
  },
  {
   "cell_type": "code",
   "execution_count": 2,
   "id": "b3f7d1b5",
   "metadata": {},
   "outputs": [
    {
     "name": "stdout",
     "output_type": "stream",
     "text": [
      "\n",
      "\n",
      "Recent News Headlines for AAPL: \n",
      "Futures Slash Losses On Possible Biden-Putin Summit Over Ukraine; 5 Stocks That Don't Suck ( Feb-20-22 08:30PM )\n",
      "Apple Might Have a Wage War on Its Hands ( 01:32PM )\n",
      "Can Apple Succeed Where Amazon Has Struggled? ( 11:35AM )\n",
      "\n",
      "\n",
      "Recent News Headlines for TSLA: \n",
      "Futures Slash Losses On Possible Biden-Putin Summit Over Ukraine; 5 Stocks That Don't Suck ( Feb-20-22 08:33PM )\n",
      "Tesla Stock Vs. BYD Stock: Tesla Growing Fast, But EV Rival BYD Sets Huge 2022 Sales Target ( 01:36PM )\n",
      "Dow Jones Futures: Markets Await Putin's Ukraine Invasion Decision; Five Stocks That Don't Suck ( 08:39AM )\n",
      "\n",
      "\n",
      "Recent News Headlines for AMZN: \n",
      "Is it a Wise Decision to Invest in Amazon.com (AMZN)? ( Feb-20-22 08:20PM )\n",
      "eBay Earnings Preview: Follow the Cash ( 08:00AM )\n",
      "3 Unstoppable Nasdaq Front-Runners You Can Still Buy Today ( 07:30AM )\n"
     ]
    }
   ],
   "source": [
    "# Get Data\n",
    "finviz_url = 'https://finviz.com/quote.ashx?t='\n",
    "news_tables = {}\n",
    "\n",
    "for ticker in tickers:\n",
    "    url = finviz_url + ticker\n",
    "    req = Request(url=url,headers={'user-agent': 'my-app/0.0.1'}) \n",
    "    resp = urlopen(req)    \n",
    "    html = BeautifulSoup(resp, features=\"lxml\")\n",
    "    news_table = html.find(id='news-table')\n",
    "    news_tables[ticker] = news_table\n",
    "\n",
    "try:\n",
    "    for ticker in tickers:\n",
    "        df = news_tables[ticker]\n",
    "        df_tr = df.findAll('tr')\n",
    "    \n",
    "        print ('\\n')\n",
    "        print ('Recent News Headlines for {}: '.format(ticker))\n",
    "        \n",
    "        for i, table_row in enumerate(df_tr):\n",
    "            a_text = table_row.a.text\n",
    "            td_text = table_row.td.text\n",
    "            td_text = td_text.strip()\n",
    "            print(a_text,'(',td_text,')')\n",
    "            if i == n-1:\n",
    "                break\n",
    "except KeyError:\n",
    "    pass"
   ]
  },
  {
   "cell_type": "code",
   "execution_count": 3,
   "id": "d4f84008",
   "metadata": {},
   "outputs": [],
   "source": [
    "# Iterate through the news\n",
    "parsed_news = []\n",
    "for file_name, news_table in news_tables.items():\n",
    "    for x in news_table.findAll('tr'):\n",
    "        text = x.a.get_text() \n",
    "        date_scrape = x.td.text.split()\n",
    "\n",
    "        if len(date_scrape) == 1:\n",
    "            time = date_scrape[0]\n",
    "            \n",
    "        else:\n",
    "            date = date_scrape[0]\n",
    "            time = date_scrape[1]\n",
    "\n",
    "        ticker = file_name.split('_')[0]\n",
    "        \n",
    "        parsed_news.append([ticker, date, time, text])"
   ]
  },
  {
   "cell_type": "code",
   "execution_count": 4,
   "id": "662fc316",
   "metadata": {},
   "outputs": [
    {
     "name": "stdout",
     "output_type": "stream",
     "text": [
      "[['AAPL', 'Feb-20-22', '08:30PM', \"Futures Slash Losses On Possible Biden-Putin Summit Over Ukraine; 5 Stocks That Don't Suck\"], ['AAPL', 'Feb-20-22', '01:32PM', 'Apple Might Have a Wage War on Its Hands'], ['AAPL', 'Feb-20-22', '11:35AM', 'Can Apple Succeed Where Amazon Has Struggled?'], ['AAPL', 'Feb-20-22', '09:06AM', 'Apple May Have a Wage War On Its Hands'], ['AAPL', 'Feb-20-22', '08:39AM', \"Dow Jones Futures: Markets Await Putin's Ukraine Invasion Decision; Five Stocks That Don't Suck\"]]\n"
     ]
    }
   ],
   "source": [
    "print(parsed_news[:5])"
   ]
  },
  {
   "cell_type": "code",
   "execution_count": 5,
   "id": "98627474",
   "metadata": {},
   "outputs": [],
   "source": [
    "# New words and values\n",
    "new_words = {\n",
    "    'crushes': 10,\n",
    "    'beats': 5,\n",
    "    'misses': -5,\n",
    "    'trouble': -10,\n",
    "    'falls': -100,\n",
    "}\n",
    "# Sentiment Analysis\n",
    "analyzer = SentimentIntensityAnalyzer()\n",
    "analyzer.lexicon.update(new_words)\n",
    "\n",
    "columns = ['Ticker', 'Date', 'Time', 'Headline']\n",
    "news = pd.DataFrame(parsed_news, columns=columns)\n",
    "scores = news['Headline'].apply(analyzer.polarity_scores).tolist()\n",
    "\n",
    "df_scores = pd.DataFrame(scores)\n",
    "news = news.join(df_scores, rsuffix='_right')"
   ]
  },
  {
   "cell_type": "code",
   "execution_count": 6,
   "id": "12f05c52",
   "metadata": {},
   "outputs": [
    {
     "name": "stdout",
     "output_type": "stream",
     "text": [
      "  Ticker       Date     Time  \\\n",
      "0   AAPL  Feb-20-22  08:30PM   \n",
      "1   AAPL  Feb-20-22  01:32PM   \n",
      "2   AAPL  Feb-20-22  11:35AM   \n",
      "3   AAPL  Feb-20-22  09:06AM   \n",
      "4   AAPL  Feb-20-22  08:39AM   \n",
      "\n",
      "                                            Headline    neg    neu    pos  \\\n",
      "0  Futures Slash Losses On Possible Biden-Putin S...  0.279  0.581  0.140   \n",
      "1           Apple Might Have a Wage War on Its Hands  0.358  0.642  0.000   \n",
      "2      Can Apple Succeed Where Amazon Has Struggled?  0.212  0.354  0.434   \n",
      "3             Apple May Have a Wage War On Its Hands  0.358  0.642  0.000   \n",
      "4  Dow Jones Futures: Markets Await Putin's Ukrai...  0.000  0.759  0.241   \n",
      "\n",
      "   compound  \n",
      "0   -0.3387  \n",
      "1   -0.5994  \n",
      "2    0.3612  \n",
      "3   -0.5994  \n",
      "4    0.4226  \n"
     ]
    }
   ],
   "source": [
    "print(news.head(5))"
   ]
  },
  {
   "cell_type": "code",
   "execution_count": 7,
   "id": "bf2b2059",
   "metadata": {},
   "outputs": [
    {
     "name": "stdout",
     "output_type": "stream",
     "text": [
      "\n",
      "\n",
      "              Date     Time    neg    neu    pos  compound\n",
      "Ticker                                                    \n",
      "AAPL    2022-02-20  08:30PM  0.279  0.581  0.140   -0.3387\n",
      "AAPL    2022-02-20  01:32PM  0.358  0.642  0.000   -0.5994\n",
      "AAPL    2022-02-20  11:35AM  0.212  0.354  0.434    0.3612\n",
      "AAPL    2022-02-20  09:06AM  0.358  0.642  0.000   -0.5994\n",
      "AAPL    2022-02-20  08:39AM  0.000  0.759  0.241    0.4226\n",
      "\n",
      "\n",
      "              Date     Time    neg    neu    pos  compound\n",
      "Ticker                                                    \n",
      "TSLA    2022-02-20  08:33PM  0.279  0.581  0.140   -0.3387\n",
      "TSLA    2022-02-20  01:36PM  0.000  0.777  0.223    0.5106\n",
      "TSLA    2022-02-20  08:39AM  0.000  0.759  0.241    0.4226\n",
      "TSLA    2022-02-20  07:45AM  0.000  1.000  0.000    0.0000\n",
      "TSLA    2022-02-20  07:00AM  0.131  0.689  0.181    0.1486\n",
      "\n",
      "\n",
      "              Date     Time    neg    neu    pos  compound\n",
      "Ticker                                                    \n",
      "AMZN    2022-02-20  08:20PM  0.000  0.721  0.279    0.4767\n",
      "AMZN    2022-02-20  08:00AM  0.000  1.000  0.000    0.0000\n",
      "AMZN    2022-02-20  07:30AM  0.205  0.795  0.000   -0.2023\n",
      "AMZN    2022-02-20  07:00AM  0.273  0.727  0.000   -0.3875\n",
      "AMZN    2022-02-20  07:00AM  0.000  1.000  0.000    0.0000\n",
      "\n",
      "\n",
      "        Mean Sentiment\n",
      "Ticker                \n",
      "AMZN              0.18\n",
      "AAPL              0.07\n",
      "TSLA             -0.05\n"
     ]
    }
   ],
   "source": [
    "# View Data \n",
    "news['Date'] = pd.to_datetime(news.Date).dt.date\n",
    "\n",
    "unique_ticker = news['Ticker'].unique().tolist()\n",
    "news_dict = {name: news.loc[news['Ticker'] == name] for name in unique_ticker}\n",
    "\n",
    "values = []\n",
    "for ticker in tickers: \n",
    "    dataframe = news_dict[ticker]\n",
    "    dataframe = dataframe.set_index('Ticker')\n",
    "    dataframe = dataframe.drop(columns = ['Headline'])\n",
    "    print ('\\n')\n",
    "    print (dataframe.head())\n",
    "    \n",
    "    mean = round(dataframe['compound'].mean(), 2)\n",
    "    values.append(mean)\n",
    "    \n",
    "df = pd.DataFrame(list(zip(tickers, values)), columns =['Ticker', 'Mean Sentiment']) \n",
    "df = df.set_index('Ticker')\n",
    "df = df.sort_values('Mean Sentiment', ascending=False)\n",
    "print ('\\n')\n",
    "print (df)"
   ]
  },
  {
   "cell_type": "code",
   "execution_count": 8,
   "id": "1c339dc5",
   "metadata": {
    "scrolled": true
   },
   "outputs": [
    {
     "name": "stdout",
     "output_type": "stream",
     "text": [
      "                        neg       neu       pos  compound\n",
      "Date       Ticker                                        \n",
      "2022-02-15 AAPL    0.000000  0.868667  0.131333  0.207933\n",
      "           AMZN    0.062286  0.742714  0.195000  0.174257\n",
      "2022-02-16 AAPL    0.072559  0.802912  0.124529  0.102806\n",
      "           AMZN    0.055870  0.783739  0.160391  0.191957\n",
      "           TSLA    0.133000  0.777300  0.089700 -0.096800\n"
     ]
    }
   ],
   "source": [
    "# Group by date and ticker columns from scored_news and calculate the mean\n",
    "mean_c = news.groupby(['Date','Ticker']).mean()\n",
    "print(mean_c.head(5))"
   ]
  },
  {
   "cell_type": "code",
   "execution_count": 9,
   "id": "41ae1b0e",
   "metadata": {},
   "outputs": [
    {
     "name": "stdout",
     "output_type": "stream",
     "text": [
      "                 neg                           neu                      \\\n",
      "Ticker          AAPL      AMZN      TSLA      AAPL      AMZN      TSLA   \n",
      "Date                                                                     \n",
      "2022-02-15  0.000000  0.062286       NaN  0.868667  0.742714       NaN   \n",
      "2022-02-16  0.072559  0.055870  0.133000  0.802912  0.783739  0.777300   \n",
      "2022-02-17  0.027552  0.042629  0.162477  0.868483  0.736371  0.777341   \n",
      "2022-02-18  0.071043  0.040200  0.069000  0.857261  0.853150  0.825857   \n",
      "2022-02-19  0.000000  0.024167  0.179600  0.861000  0.761167  0.668200   \n",
      "2022-02-20  0.159778  0.068778  0.068333  0.685444  0.819444  0.801000   \n",
      "\n",
      "                 pos                      compound                      \n",
      "Ticker          AAPL      AMZN      TSLA      AAPL      AMZN      TSLA  \n",
      "Date                                                                    \n",
      "2022-02-15  0.131333  0.195000       NaN  0.207933  0.174257       NaN  \n",
      "2022-02-16  0.124529  0.160391  0.089700  0.102806  0.191957 -0.096800  \n",
      "2022-02-17  0.104000  0.221029  0.060159  0.105276  0.238157 -0.152975  \n",
      "2022-02-18  0.071696  0.106650  0.105171 -0.016765  0.067230  0.056406  \n",
      "2022-02-19  0.139000  0.214500  0.152200  0.200950  0.319100  0.045940  \n",
      "2022-02-20  0.154778  0.111889  0.130833 -0.010744  0.089156  0.123850  \n"
     ]
    }
   ],
   "source": [
    "# Unstack the column ticker, put ticker index in column\n",
    "mean_c = mean_c.unstack('Ticker')\n",
    "print(mean_c)"
   ]
  },
  {
   "cell_type": "code",
   "execution_count": 10,
   "id": "ceefc906",
   "metadata": {},
   "outputs": [
    {
     "name": "stdout",
     "output_type": "stream",
     "text": [
      "Ticker          AAPL      AMZN      TSLA\n",
      "Date                                    \n",
      "2022-02-15  0.207933  0.174257       NaN\n",
      "2022-02-16  0.102806  0.191957 -0.096800\n",
      "2022-02-17  0.105276  0.238157 -0.152975\n",
      "2022-02-18 -0.016765  0.067230  0.056406\n",
      "2022-02-19  0.200950  0.319100  0.045940\n",
      "2022-02-20 -0.010744  0.089156  0.123850\n"
     ]
    }
   ],
   "source": [
    "# Get the cross-section of compound in the 'columns' axis\n",
    "mean_c = mean_c.xs('compound',axis='columns') #This method takes a `key` argument to select data at a particular level of a MultiIndex.\n",
    "print(mean_c)"
   ]
  },
  {
   "cell_type": "code",
   "execution_count": 11,
   "id": "ef109551",
   "metadata": {},
   "outputs": [
    {
     "data": {
      "text/plain": [
       "<AxesSubplot:xlabel='Date'>"
      ]
     },
     "execution_count": 11,
     "metadata": {},
     "output_type": "execute_result"
    },
    {
     "data": {
      "image/png": "[encoded data removed]",
      "text/plain": [
       "<Figure size 720x432 with 1 Axes>"
      ]
     },
     "metadata": {
      "needs_background": "light"
     },
     "output_type": "display_data"
    }
   ],
   "source": [
    "# Plot a bar chart with pandas\n",
    "mean_c.plot.bar(figsize=(10,6))"
   ]
  },
  {
   "cell_type": "code",
   "execution_count": 12,
   "id": "2779c1e8",
   "metadata": {},
   "outputs": [
    {
     "data": {
      "text/plain": [
       "'Before we had 300 headlines, now we have 296'"
      ]
     },
     "execution_count": 12,
     "metadata": {},
     "output_type": "execute_result"
    }
   ],
   "source": [
    "# Count the number of headlines in scored_news (store as integer)\n",
    "num_news_before = news['Headline'].count()\n",
    "# Drop duplicates based on ticker and headline\n",
    "news_clean = news.drop_duplicates(['Ticker','Headline'])\n",
    "# Count number of headlines after dropping duplicates\n",
    "num_news_after = news_clean['Headline'].count()\n",
    "# Print before and after numbers to get an idea of how we did \n",
    "f\"Before we had {num_news_before} headlines, now we have {num_news_after}\""
   ]
  },
  {
   "cell_type": "code",
   "execution_count": 13,
   "id": "5588683b",
   "metadata": {},
   "outputs": [
    {
     "data": {
      "text/html": [
       "<div>\n",
       "<style scoped>\n",
       "    .dataframe tbody tr th:only-of-type {\n",
       "        vertical-align: middle;\n",
       "    }\n",
       "\n",
       "    .dataframe tbody tr th {\n",
       "        vertical-align: top;\n",
       "    }\n",
       "\n",
       "    .dataframe thead th {\n",
       "        text-align: right;\n",
       "    }\n",
       "</style>\n",
       "<table border=\"1\" class=\"dataframe\">\n",
       "  <thead>\n",
       "    <tr style=\"text-align: right;\">\n",
       "      <th></th>\n",
       "      <th>Ticker</th>\n",
       "      <th>Date</th>\n",
       "      <th>Time</th>\n",
       "      <th>Headline</th>\n",
       "      <th>neg</th>\n",
       "      <th>neu</th>\n",
       "      <th>pos</th>\n",
       "      <th>compound</th>\n",
       "    </tr>\n",
       "  </thead>\n",
       "  <tbody>\n",
       "    <tr>\n",
       "      <th>0</th>\n",
       "      <td>AAPL</td>\n",
       "      <td>2022-02-20</td>\n",
       "      <td>08:30PM</td>\n",
       "      <td>Futures Slash Losses On Possible Biden-Putin S...</td>\n",
       "      <td>0.279</td>\n",
       "      <td>0.581</td>\n",
       "      <td>0.140</td>\n",
       "      <td>-0.3387</td>\n",
       "    </tr>\n",
       "    <tr>\n",
       "      <th>1</th>\n",
       "      <td>AAPL</td>\n",
       "      <td>2022-02-20</td>\n",
       "      <td>01:32PM</td>\n",
       "      <td>Apple Might Have a Wage War on Its Hands</td>\n",
       "      <td>0.358</td>\n",
       "      <td>0.642</td>\n",
       "      <td>0.000</td>\n",
       "      <td>-0.5994</td>\n",
       "    </tr>\n",
       "    <tr>\n",
       "      <th>2</th>\n",
       "      <td>AAPL</td>\n",
       "      <td>2022-02-20</td>\n",
       "      <td>11:35AM</td>\n",
       "      <td>Can Apple Succeed Where Amazon Has Struggled?</td>\n",
       "      <td>0.212</td>\n",
       "      <td>0.354</td>\n",
       "      <td>0.434</td>\n",
       "      <td>0.3612</td>\n",
       "    </tr>\n",
       "    <tr>\n",
       "      <th>3</th>\n",
       "      <td>AAPL</td>\n",
       "      <td>2022-02-20</td>\n",
       "      <td>09:06AM</td>\n",
       "      <td>Apple May Have a Wage War On Its Hands</td>\n",
       "      <td>0.358</td>\n",
       "      <td>0.642</td>\n",
       "      <td>0.000</td>\n",
       "      <td>-0.5994</td>\n",
       "    </tr>\n",
       "    <tr>\n",
       "      <th>4</th>\n",
       "      <td>AAPL</td>\n",
       "      <td>2022-02-20</td>\n",
       "      <td>08:39AM</td>\n",
       "      <td>Dow Jones Futures: Markets Await Putin's Ukrai...</td>\n",
       "      <td>0.000</td>\n",
       "      <td>0.759</td>\n",
       "      <td>0.241</td>\n",
       "      <td>0.4226</td>\n",
       "    </tr>\n",
       "  </tbody>\n",
       "</table>\n",
       "</div>"
      ],
      "text/plain": [
       "  Ticker        Date     Time  \\\n",
       "0   AAPL  2022-02-20  08:30PM   \n",
       "1   AAPL  2022-02-20  01:32PM   \n",
       "2   AAPL  2022-02-20  11:35AM   \n",
       "3   AAPL  2022-02-20  09:06AM   \n",
       "4   AAPL  2022-02-20  08:39AM   \n",
       "\n",
       "                                            Headline    neg    neu    pos  \\\n",
       "0  Futures Slash Losses On Possible Biden-Putin S...  0.279  0.581  0.140   \n",
       "1           Apple Might Have a Wage War on Its Hands  0.358  0.642  0.000   \n",
       "2      Can Apple Succeed Where Amazon Has Struggled?  0.212  0.354  0.434   \n",
       "3             Apple May Have a Wage War On Its Hands  0.358  0.642  0.000   \n",
       "4  Dow Jones Futures: Markets Await Putin's Ukrai...  0.000  0.759  0.241   \n",
       "\n",
       "   compound  \n",
       "0   -0.3387  \n",
       "1   -0.5994  \n",
       "2    0.3612  \n",
       "3   -0.5994  \n",
       "4    0.4226  "
      ]
     },
     "execution_count": 13,
     "metadata": {},
     "output_type": "execute_result"
    }
   ],
   "source": [
    "news_clean.head(5)"
   ]
  },
  {
   "cell_type": "code",
   "execution_count": 14,
   "id": "6b6924ab",
   "metadata": {
    "scrolled": true
   },
   "outputs": [
    {
     "name": "stdout",
     "output_type": "stream",
     "text": [
      "              Date     Time  \\\n",
      "Ticker                        \n",
      "AAPL    2022-02-20  08:30PM   \n",
      "AAPL    2022-02-20  01:32PM   \n",
      "AAPL    2022-02-20  11:35AM   \n",
      "AAPL    2022-02-20  09:06AM   \n",
      "AAPL    2022-02-20  08:39AM   \n",
      "\n",
      "                                                 Headline    neg    neu  \\\n",
      "Ticker                                                                    \n",
      "AAPL    Futures Slash Losses On Possible Biden-Putin S...  0.279  0.581   \n",
      "AAPL             Apple Might Have a Wage War on Its Hands  0.358  0.642   \n",
      "AAPL        Can Apple Succeed Where Amazon Has Struggled?  0.212  0.354   \n",
      "AAPL               Apple May Have a Wage War On Its Hands  0.358  0.642   \n",
      "AAPL    Dow Jones Futures: Markets Await Putin's Ukrai...  0.000  0.759   \n",
      "\n",
      "          pos  compound  \n",
      "Ticker                   \n",
      "AAPL    0.140   -0.3387  \n",
      "AAPL    0.000   -0.5994  \n",
      "AAPL    0.434    0.3612  \n",
      "AAPL    0.000   -0.5994  \n",
      "AAPL    0.241    0.4226  \n"
     ]
    }
   ],
   "source": [
    "aapl_day = news_clean[news_clean['Ticker']=='AAPL']\n",
    "aapl_day = aapl_day.set_index('Ticker')\n",
    "print(aapl_day.head(5))"
   ]
  },
  {
   "cell_type": "code",
   "execution_count": 15,
   "id": "f9f03f4c",
   "metadata": {},
   "outputs": [
    {
     "name": "stderr",
     "output_type": "stream",
     "text": [
      "/var/folders/d8/_jrpdn5s1x57cvk6wx8v7kyw0000gn/T/ipykernel_2065/2726302603.py:4: FutureWarning: In a future version of pandas all arguments of DataFrame.drop except for the argument 'labels' will be keyword-only\n",
      "  plot_day = aapl_day.drop(['compound','Headline','Date','Time'],1)\n"
     ]
    },
    {
     "data": {
      "text/plain": [
       "Text(0, 0.5, 'scores')"
      ]
     },
     "execution_count": 15,
     "metadata": {},
     "output_type": "execute_result"
    },
    {
     "data": {
      "image/png": "[encoded data removed]",
      "text/plain": [
       "<Figure size 1080x720 with 1 Axes>"
      ]
     },
     "metadata": {
      "needs_background": "light"
     },
     "output_type": "display_data"
    }
   ],
   "source": [
    "TITLE = \"Negative, neutral, and positive sentiment for AAPL from 2022-02-15 to 2022-02-20\"\n",
    "COLORS = [\"red\",\"orange\", \"green\"]\n",
    "# Drop the columns that aren't useful for the plot\n",
    "plot_day = aapl_day.drop(['compound','Headline','Date','Time'],1)\n",
    "# Change the column names to 'negative', 'positive', and 'neutral'\n",
    "plot_day.columns = ['negative','neutral','positive']\n",
    "# Plot a stacked bar chart\n",
    "plot_day.plot.bar(stacked = True,figsize=(15,10),title=TITLE,color=COLORS)\n",
    "plt.ylabel('scores')"
   ]
  },
  {
   "cell_type": "code",
   "execution_count": 16,
   "id": "c2901952",
   "metadata": {},
   "outputs": [
    {
     "name": "stderr",
     "output_type": "stream",
     "text": [
      "/var/folders/d8/_jrpdn5s1x57cvk6wx8v7kyw0000gn/T/ipykernel_2065/3250943567.py:6: FutureWarning: In a future version of pandas all arguments of DataFrame.drop except for the argument 'labels' will be keyword-only\n",
      "  plot_day = tsla_day.drop(['compound','Headline','Date','Time'],1)\n"
     ]
    },
    {
     "data": {
      "text/plain": [
       "Text(0, 0.5, 'scores')"
      ]
     },
     "execution_count": 16,
     "metadata": {},
     "output_type": "execute_result"
    },
    {
     "data": {
      "image/png": "[encoded data removed]",
      "text/plain": [
       "<Figure size 1080x720 with 1 Axes>"
      ]
     },
     "metadata": {
      "needs_background": "light"
     },
     "output_type": "display_data"
    }
   ],
   "source": [
    "tsla_day = news_clean[news_clean['Ticker']=='TSLA']\n",
    "tsla_day = tsla_day.set_index('Ticker')\n",
    "TITLE = \"Negative, neutral, and positive sentiment for TSLA from 2022-02-15 to 2022-02-20\"\n",
    "COLORS = [\"red\",\"orange\", \"green\"]\n",
    "# Drop the columns that aren't useful for the plot\n",
    "plot_day = tsla_day.drop(['compound','Headline','Date','Time'],1)\n",
    "# Change the column names to 'negative', 'positive', and 'neutral'\n",
    "plot_day.columns = ['negative','neutral','positive']\n",
    "# Plot a stacked bar chart\n",
    "plot_day.plot.bar(stacked = True,figsize=(15,10),title=TITLE,color=COLORS)\n",
    "plt.ylabel('scores')"
   ]
  },
  {
   "cell_type": "code",
   "execution_count": 17,
   "id": "aea88aa7",
   "metadata": {},
   "outputs": [
    {
     "name": "stderr",
     "output_type": "stream",
     "text": [
      "/var/folders/d8/_jrpdn5s1x57cvk6wx8v7kyw0000gn/T/ipykernel_2065/3602080827.py:6: FutureWarning: In a future version of pandas all arguments of DataFrame.drop except for the argument 'labels' will be keyword-only\n",
      "  plot_day = amzn_day.drop(['compound','Headline','Date','Time'],1)\n"
     ]
    },
    {
     "data": {
      "text/plain": [
       "Text(0, 0.5, 'scores')"
      ]
     },
     "execution_count": 17,
     "metadata": {},
     "output_type": "execute_result"
    },
    {
     "data": {
      "image/png": "[encoded data removed]",
      "text/plain": [
       "<Figure size 1080x720 with 1 Axes>"
      ]
     },
     "metadata": {
      "needs_background": "light"
     },
     "output_type": "display_data"
    }
   ],
   "source": [
    "amzn_day = news_clean[news_clean['Ticker']=='AMZN']\n",
    "amzn_day = amzn_day.set_index('Ticker')\n",
    "TITLE = \"Negative, neutral, and positive sentiment for AMZN from 2022-02-15 to 2022-02-20\"\n",
    "COLORS = [\"red\",\"orange\", \"green\"]\n",
    "# Drop the columns that aren't useful for the plot\n",
    "plot_day = amzn_day.drop(['compound','Headline','Date','Time'],1)\n",
    "# Change the column names to 'negative', 'positive', and 'neutral'\n",
    "plot_day.columns = ['negative','neutral','positive']\n",
    "# Plot a stacked bar chart\n",
    "plot_day.plot.bar(stacked = True,figsize=(15,10),title=TITLE,color=COLORS)\n",
    "plt.ylabel('scores')"
   ]
  },
  {
   "cell_type": "code",
   "execution_count": 18,
   "id": "bd922aba",
   "metadata": {
    "scrolled": true
   },
   "outputs": [
    {
     "name": "stdout",
     "output_type": "stream",
     "text": [
      "                      Time                                           Headline  \\\n",
      "Ticker Date                                                                     \n",
      "AAPL   2022-02-20  08:30PM  Futures Slash Losses On Possible Biden-Putin S...   \n",
      "       2022-02-20  01:32PM           Apple Might Have a Wage War on Its Hands   \n",
      "       2022-02-20  11:35AM      Can Apple Succeed Where Amazon Has Struggled?   \n",
      "       2022-02-20  09:06AM             Apple May Have a Wage War On Its Hands   \n",
      "       2022-02-20  08:39AM  Dow Jones Futures: Markets Await Putin's Ukrai...   \n",
      "...                    ...                                                ...   \n",
      "AMZN   2022-02-15  04:43PM  ViacomCBS rebrands to Paramount as streaming s...   \n",
      "       2022-02-15  04:31PM  Inflation: Tech companies may be best able to ...   \n",
      "       2022-02-15  04:31PM       Biggest Companies in the World by Market Cap   \n",
      "       2022-02-15  02:33PM  As Amazon, JPMorgan drop mask mandates, Raleig...   \n",
      "       2022-02-15  02:00PM           5 Best Amazon Deals for February of 2022   \n",
      "\n",
      "                     neg    neu    pos  compound  \n",
      "Ticker Date                                       \n",
      "AAPL   2022-02-20  0.279  0.581  0.140   -0.3387  \n",
      "       2022-02-20  0.358  0.642  0.000   -0.5994  \n",
      "       2022-02-20  0.212  0.354  0.434    0.3612  \n",
      "       2022-02-20  0.358  0.642  0.000   -0.5994  \n",
      "       2022-02-20  0.000  0.759  0.241    0.4226  \n",
      "...                  ...    ...    ...       ...  \n",
      "AMZN   2022-02-15  0.000  1.000  0.000    0.0000  \n",
      "       2022-02-15  0.000  0.756  0.244    0.6369  \n",
      "       2022-02-15  0.000  1.000  0.000    0.0000  \n",
      "       2022-02-15  0.152  0.725  0.123   -0.1027  \n",
      "       2022-02-15  0.000  0.459  0.541    0.7096  \n",
      "\n",
      "[296 rows x 6 columns]\n"
     ]
    }
   ],
   "source": [
    "# Set the index to ticker and date\n",
    "single_day = news_clean.set_index(['Ticker','Date'])\n",
    "print(single_day)"
   ]
  },
  {
   "cell_type": "code",
   "execution_count": 19,
   "id": "55bd23cc",
   "metadata": {},
   "outputs": [
    {
     "data": {
      "text/plain": [
       "pandas.core.indexes.multi.MultiIndex"
      ]
     },
     "execution_count": 19,
     "metadata": {},
     "output_type": "execute_result"
    }
   ],
   "source": [
    "type(single_day.index)"
   ]
  },
  {
   "cell_type": "code",
   "execution_count": 20,
   "id": "49002bb9",
   "metadata": {
    "scrolled": true
   },
   "outputs": [
    {
     "name": "stdout",
     "output_type": "stream",
     "text": [
      "               Time                                           Headline    neg  \\\n",
      "Date                                                                            \n",
      "2022-02-20  08:30PM  Futures Slash Losses On Possible Biden-Putin S...  0.279   \n",
      "2022-02-20  01:32PM           Apple Might Have a Wage War on Its Hands  0.358   \n",
      "2022-02-20  11:35AM      Can Apple Succeed Where Amazon Has Struggled?  0.212   \n",
      "2022-02-20  09:06AM             Apple May Have a Wage War On Its Hands  0.358   \n",
      "2022-02-20  08:39AM  Dow Jones Futures: Markets Await Putin's Ukrai...  0.000   \n",
      "...             ...                                                ...    ...   \n",
      "2022-02-16  07:35AM         Is Alphabet the Best FAANG Stock for 2022?  0.000   \n",
      "2022-02-16  07:19AM  Top 5 Nasdaq Composite Stocks Amid Index's YTD...  0.000   \n",
      "2022-02-15  05:02PM  Apple is Berkshires largest stock holding, but...  0.000   \n",
      "2022-02-15  04:57PM  Apple, Amazon, Microsoft or Tesla: Which Will ...  0.000   \n",
      "2022-02-15  04:43PM  ViacomCBS rebrands to Paramount as streaming s...  0.000   \n",
      "\n",
      "              neu    pos  compound  \n",
      "Date                                \n",
      "2022-02-20  0.581  0.140   -0.3387  \n",
      "2022-02-20  0.642  0.000   -0.5994  \n",
      "2022-02-20  0.354  0.434    0.3612  \n",
      "2022-02-20  0.642  0.000   -0.5994  \n",
      "2022-02-20  0.759  0.241    0.4226  \n",
      "...           ...    ...       ...  \n",
      "2022-02-16  0.625  0.375    0.6369  \n",
      "2022-02-16  0.795  0.205    0.2023  \n",
      "2022-02-15  0.843  0.157    0.4215  \n",
      "2022-02-15  0.763  0.237    0.2023  \n",
      "2022-02-15  1.000  0.000    0.0000  \n",
      "\n",
      "[100 rows x 6 columns]\n"
     ]
    }
   ],
   "source": [
    "# analyze sentiment for AAPL\n",
    "single_day = single_day.xs('AAPL','Date' == '2022-02-20') \n",
    "print(single_day)"
   ]
  },
  {
   "cell_type": "code",
   "execution_count": 21,
   "id": "1bb187bb",
   "metadata": {
    "scrolled": true
   },
   "outputs": [
    {
     "name": "stdout",
     "output_type": "stream",
     "text": [
      "                                                   Headline    neg    neu  \\\n",
      "Time                                                                        \n",
      "00:55:00  The 10 Stocks That Stephen Perkins Toronado Pa...  0.000  1.000   \n",
      "04:00:00         How predictive text took over the internet  0.000  1.000   \n",
      "04:34:00  The Zacks Analyst Blog Highlights: Apple Inc.,...  0.000  1.000   \n",
      "04:43:00  The Zacks Analyst Blog Highlights: Apple Inc.,...  0.000  0.905   \n",
      "05:00:00  Apple Shareholders Are Urged to Vote Against C...  0.113  0.887   \n",
      "...                                                     ...    ...    ...   \n",
      "19:37:00  Intel Sees Sales Picking Up in Coming Years as...  0.000  1.000   \n",
      "20:17:00  Intel CEO Is Tired of Wall Street Doubting His...  0.371  0.629   \n",
      "20:30:00  Futures Slash Losses On Possible Biden-Putin S...  0.279  0.581   \n",
      "21:00:00  Google to Limit Personal Information Shared on...  0.000  0.745   \n",
      "23:50:00  Apple Enlists Korean Director Park Chan-wook t...  0.156  0.844   \n",
      "\n",
      "            pos  compound  \n",
      "Time                       \n",
      "00:55:00  0.000    0.0000  \n",
      "04:00:00  0.000    0.0000  \n",
      "04:34:00  0.000    0.0000  \n",
      "04:43:00  0.095    0.2500  \n",
      "05:00:00  0.000   -0.1027  \n",
      "...         ...       ...  \n",
      "19:37:00  0.000    0.0000  \n",
      "20:17:00  0.000   -0.6486  \n",
      "20:30:00  0.140   -0.3387  \n",
      "21:00:00  0.255    0.3400  \n",
      "23:50:00  0.000   -0.3400  \n",
      "\n",
      "[100 rows x 5 columns]\n"
     ]
    }
   ],
   "source": [
    "# Convert the datetime string to just the time\n",
    "single_day['Time'] = pd.to_datetime(single_day['Time']).dt.time\n",
    "# Set the index to time and sort by it\n",
    "single_day = single_day.set_index('Time')\n",
    "# Sort it\n",
    "single_day = single_day.sort_index()\n",
    "print(single_day)"
   ]
  },
  {
   "cell_type": "code",
   "execution_count": 22,
   "id": "45fc66f6",
   "metadata": {},
   "outputs": [
    {
     "data": {
      "image/png": "[encoded data removed]",
      "text/plain": [
       "<Figure size 432x288 with 1 Axes>"
      ]
     },
     "metadata": {
      "needs_background": "light"
     },
     "output_type": "display_data"
    }
   ],
   "source": [
    "single_day['neg'].plot(label='negative news headline score')\n",
    "single_day['pos'].plot(label='positive news headline score')\n",
    "plt.legend()\n",
    "plt.show()"
   ]
  }
 ],
 "metadata": {
  "kernelspec": {
   "display_name": "Python 3 (ipykernel)",
   "language": "python",
   "name": "python3"
  },
  "language_info": {
   "codemirror_mode": {
    "name": "ipython",
    "version": 3
   },
   "file_extension": ".py",
   "mimetype": "text/x-python",
   "name": "python",
   "nbconvert_exporter": "python",
   "pygments_lexer": "ipython3",
   "version": "3.9.7"
  },
  "toc": {
   "base_numbering": 1,
   "nav_menu": {},
   "number_sections": true,
   "sideBar": true,
   "skip_h1_title": false,
   "title_cell": "Table of Contents",
   "title_sidebar": "Contents",
   "toc_cell": false,
   "toc_position": {},
   "toc_section_display": true,
   "toc_window_display": false
  },
  "varInspector": {
   "cols": {
    "lenName": 16,
    "lenType": 16,
    "lenVar": 40
   },
   "kernels_config": {
    "python": {
     "delete_cmd_postfix": "",
     "delete_cmd_prefix": "del ",
     "library": "var_list.py",
     "varRefreshCmd": "print(var_dic_list())"
    },
    "r": {
     "delete_cmd_postfix": ") ",
     "delete_cmd_prefix": "rm(",
     "library": "var_list.r",
     "varRefreshCmd": "cat(var_dic_list()) "
    }
   },
   "types_to_exclude": [
    "module",
    "function",
    "builtin_function_or_method",
    "instance",
    "_Feature"
   ],
   "window_display": false
  }
 },
 "nbformat": 4,
 "nbformat_minor": 5
}
